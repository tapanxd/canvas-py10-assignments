{
 "cells": [
  {
   "cell_type": "markdown",
   "metadata": {},
   "source": [
    "Task 1:\n",
    "\n",
    "1.1 Write a Python Program to implement your own myreduce() function which works exactly like Python's built-in function reduce()\n"
   ]
  },
  {
   "cell_type": "code",
   "execution_count": 4,
   "metadata": {},
   "outputs": [
    {
     "name": "stdout",
     "output_type": "stream",
     "text": [
      "212\n",
      "24131844\n"
     ]
    }
   ],
   "source": [
    "def myreduce(fun, l, init = None):\n",
    "    i = iter(l)\n",
    "    if init == None:\n",
    "        value = next(i)\n",
    "    else:\n",
    "        value = init\n",
    "    for p in i:\n",
    "        value = fun(value, p)\n",
    "    \n",
    "    return value\n",
    "\n",
    "l = [1,2,3,9,37,61,99]\n",
    "print(myreduce(lambda x, y : x+y, l))\n",
    "print(myreduce(lambda x, y : x*y, l, 2))"
   ]
  },
  {
   "cell_type": "markdown",
   "metadata": {},
   "source": [
    "1.2 Write a Python program to implement your own myfilter() function which works exactly like Python's built-in function filter()"
   ]
  },
  {
   "cell_type": "code",
   "execution_count": 6,
   "metadata": {},
   "outputs": [
    {
     "name": "stdout",
     "output_type": "stream",
     "text": [
      "2\n",
      "46\n"
     ]
    }
   ],
   "source": [
    "def myfilter(fun, l):\n",
    "    for i in l:\n",
    "        if fun(i):\n",
    "             yield i\n",
    "\n",
    "for i in iter(myfilter(lambda x : x%2 == 0, l)):\n",
    "    print(i)"
   ]
  },
  {
   "cell_type": "markdown",
   "metadata": {},
   "source": [
    "2. Implement List comprehensions to produce the following lists."
   ]
  },
  {
   "cell_type": "code",
   "execution_count": 7,
   "metadata": {},
   "outputs": [
    {
     "name": "stdout",
     "output_type": "stream",
     "text": [
      "['A', 'C', 'A', 'D', 'G', 'I', 'L', 'D']\n",
      "['x', 'xx', 'xxx', 'xxxx', 'y', 'yy', 'yyy', 'yyyy', 'z', 'zz', 'zzz', 'zzzz']\n",
      "['x', 'y', 'z', 'xx', 'yy', 'zz', 'xxx', 'yyy', 'zzz', 'xxxx', 'yyyy', 'zzzz']\n",
      "[[2], [3], [4], [3], [4], [5], [4], [5], [6]]\n",
      "[[2, 3, 4, 5], [3, 4, 5, 6], [4, 5, 6, 7], [5, 6, 7, 8]]\n",
      "[(1, 1), (2, 1), (3, 1), (1, 2), (2, 2), (3, 2), (1, 3), (2, 3), (3, 3)]\n"
     ]
    }
   ],
   "source": [
    "s1 = 'acadgild'\n",
    "s2 = 'xyz'\n",
    "\n",
    "l1 = [i.upper() for i in s1]\n",
    "l2 = [i*(j+1) for i in s2 for j in range(4)]\n",
    "l3 = [j*(i+1) for i in range(4) for j in s2]\n",
    "l4 = [[i+j+2] for i in range(3) for j in range(3)]\n",
    "l5 = [[i+k+2 for k in range(4)] for i in range(4)]\n",
    "l6 = [(j+1,i+1) for i in range(3) for j in range(3)]\n",
    "\n",
    "print(l1)\n",
    "print(l2)\n",
    "print(l3)\n",
    "print(l4)\n",
    "print(l5)\n",
    "print(l6)"
   ]
  },
  {
   "cell_type": "markdown",
   "metadata": {},
   "source": [
    "3. Implement a function longestWord() that takes a list of words and returns the longest one.\n"
   ]
  },
  {
   "cell_type": "code",
   "execution_count": 12,
   "metadata": {},
   "outputs": [
    {
     "name": "stdout",
     "output_type": "stream",
     "text": [
      "youreBreathtaking\n"
     ]
    }
   ],
   "source": [
    "def longestWord(l):\n",
    "    n = [len(i) for i in l]\n",
    "    m = n[0]\n",
    "    for i in range(1,len(n)):\n",
    "        if n[i] > m:\n",
    "            m = n[i]\n",
    "    return l[n.index(m)]\n",
    "\n",
    "l = ['abcd', 'youreBreathtaking', 'keanu', 'reeves']\n",
    "\n",
    "print(longestWord(l))"
   ]
  },
  {
   "cell_type": "markdown",
   "metadata": {},
   "source": [
    "Task 2:\n",
    "\n",
    "1.1 Write a Python Program(with class concepts) to find the area of the triangle.\n"
   ]
  },
  {
   "cell_type": "code",
   "execution_count": 10,
   "metadata": {},
   "outputs": [
    {
     "name": "stdout",
     "output_type": "stream",
     "text": [
      "Enter length of 1st side: 4\n",
      "Enter length of 2nd side: 5\n",
      "Enter length of 3rd side: 3\n",
      "area = 6.0\n"
     ]
    }
   ],
   "source": [
    "class shape:\n",
    "    def getSides(self):\n",
    "        self.a = int(input('Enter length of 1st side: '))\n",
    "        self.b = int(input('Enter length of 2nd side: '))\n",
    "        self.c = int(input('Enter length of 3rd side: '))\n",
    "\n",
    "class triangle(shape):\n",
    "    def getArea(self):\n",
    "        self.getSides()\n",
    "        s = (self.a + self.b + self.c) / 2\n",
    "        self.area = (s*(s-self.a)*(s-self.b)*(s-self.c)) ** 0.5\n",
    "        print(f'area = {self.area}')\n",
    "        \n",
    "t1 = triangle()\n",
    "t1.getArea()"
   ]
  },
  {
   "cell_type": "markdown",
   "metadata": {},
   "source": [
    "1.2 Write a function filter_long_words() that takes a list of words and an integer n and returns the list of words that are longer than n.\n"
   ]
  },
  {
   "cell_type": "code",
   "execution_count": 13,
   "metadata": {},
   "outputs": [
    {
     "name": "stdout",
     "output_type": "stream",
     "text": [
      "['youreBreathtaking', 'keanu', 'reeves']\n"
     ]
    }
   ],
   "source": [
    "def filter_long_words(l, n):\n",
    "    return [i for i in l if len(i) > n]\n",
    "\n",
    "print(filter_long_words(l, 4))"
   ]
  },
  {
   "cell_type": "markdown",
   "metadata": {},
   "source": [
    "2.1 Write a Python program using function concept that maps list of words into a list of integers representing the lengths of the corresponding words."
   ]
  },
  {
   "cell_type": "code",
   "execution_count": 14,
   "metadata": {},
   "outputs": [
    {
     "name": "stdout",
     "output_type": "stream",
     "text": [
      "[4, 17, 5, 6]\n"
     ]
    }
   ],
   "source": [
    "def fun(l):\n",
    "    return [len(i) for i in l]\n",
    "\n",
    "print(fun(l))"
   ]
  },
  {
   "cell_type": "markdown",
   "metadata": {},
   "source": [
    "2.2 Write a Python function which takes a character (i.e. a string of length 1) and returns True if it is a vowel, False otherwise."
   ]
  },
  {
   "cell_type": "code",
   "execution_count": 15,
   "metadata": {},
   "outputs": [
    {
     "name": "stdout",
     "output_type": "stream",
     "text": [
      "True\n",
      "False\n"
     ]
    }
   ],
   "source": [
    "def isvowel(c):\n",
    "    if c in ['a', 'e', 'i', 'o', 'u', 'A', 'E', 'I', 'O', 'U']:\n",
    "        return True\n",
    "    else:\n",
    "        return False\n",
    "    \n",
    "print(isvowel('a'))\n",
    "print(isvowel('v'))"
   ]
  },
  {
   "cell_type": "code",
   "execution_count": null,
   "metadata": {},
   "outputs": [],
   "source": []
  }
 ],
 "metadata": {
  "kernelspec": {
   "display_name": "Python 3",
   "language": "python",
   "name": "python3"
  },
  "language_info": {
   "codemirror_mode": {
    "name": "ipython",
    "version": 3
   },
   "file_extension": ".py",
   "mimetype": "text/x-python",
   "name": "python",
   "nbconvert_exporter": "python",
   "pygments_lexer": "ipython3",
   "version": "3.7.2"
  }
 },
 "nbformat": 4,
 "nbformat_minor": 2
}
